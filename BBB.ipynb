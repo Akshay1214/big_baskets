{
 "cells": [
  {
   "cell_type": "code",
   "execution_count": 159,
   "id": "2bde1925",
   "metadata": {},
   "outputs": [],
   "source": [
    "from selenium import webdriver\n",
    "from selenium.webdriver.common.by import By\n",
    "import time\n",
    "import openpyxl\n",
    "import pandas as pd\n",
    "\n",
    "driver = webdriver.Chrome()\n",
    "driver.get(\"https://www.bigbasket.com/pc/beauty-hygiene/health-medicine/ayurveda\")\n",
    "driver.maximize_window()\n",
    " "
   ]
  },
  {
   "cell_type": "code",
   "execution_count": 160,
   "id": "abaf44f4",
   "metadata": {},
   "outputs": [],
   "source": [
    "#containers = driver.find_elements(by=By.XPATH, value='//*[@id=\"dynamicDirective\"]/product-deck/section/div[2]/div[4]/div[1]/div/div/div[2]/div/div')"
   ]
  },
  {
   "cell_type": "code",
   "execution_count": 161,
   "id": "9510ff50",
   "metadata": {},
   "outputs": [],
   "source": [
    "#len(containers)\n",
    "#print(containers)"
   ]
  },
  {
   "cell_type": "code",
   "execution_count": 162,
   "id": "f0b14a6f",
   "metadata": {},
   "outputs": [],
   "source": [
    "pro_names = driver.find_elements(by=By.XPATH, value='//*[@id=\"dynamicDirective\"]/product-deck/section/div[2]/div[4]/div[1]/div/div/div[2]/div/div/product-template/div/div[4]/div[1]/a')\n",
    "\n",
    "delivery = driver.find_elements(by=By.XPATH, value='//*[@id=\"dynamicDirective\"]/product-deck/section/div[2]/div[4]/div[1]/div/div/div[2]/div/div/product-template/div/div[4]/div[3]/div/div[3]/span/div/p/span[2]')\n",
    "\n",
    "try:\n",
    "    pro_price = driver.find_elements(by=By.XPATH, value='//*[@id=\"dynamicDirective\"]/product-deck/section/div[2]/div[4]/div[1]/div/div/div[2]/div/div/product-template/div/div[4]/div[3]/div/div[1]/h4/span[2]')\n",
    "except:\n",
    "    pro_price = \"No Price\"\n",
    "    \n",
    "\n",
    "dis_price = driver.find_elements(by=By.XPATH, value='//*[@id=\"dynamicDirective\"]/product-deck/section/div[2]/div[4]/div[1]/div/div/div[2]/div/div/product-template/div/div[4]/div[3]/div/div[1]/h4/span[1]')\n",
    "\n",
    "per_dis = driver.find_elements(by=By.XPATH, value='//*[@id=\"dynamicDirective\"]/product-deck/section/div[2]/div[4]/div[1]/div/div/div[2]/div/div/product-template/div/div[2]/div[2]/div/div')\n",
    "\n",
    "try:\n",
    "    ratings = driver.find_elements(by=By.XPATH, value='//*[@id=\"dynamicDirective\"]/product-deck/section/div[2]/div[4]/div[1]/div/div/div[2]/div/div/product-template/div/div[4]/div[1]/div/span[1]/span/span[1]')\n",
    "except:\n",
    "    ratings = \"No Ratings\""
   ]
  },
  {
   "cell_type": "code",
   "execution_count": 163,
   "id": "89f3b846",
   "metadata": {},
   "outputs": [],
   "source": [
    "names, deli, price, d_price, p_dis, rat = [],[],[],[],[], []\n",
    "\n",
    "for i in range(len(pro_names)):\n",
    "    names.append(pro_names[i].text)\n",
    "    \n",
    "for i in range(len(delivery)):\n",
    "    deli.append(delivery[i].text)\n",
    "    \n",
    "for i in range(len(pro_price)):\n",
    "    price.append(pro_price[i].text)\n",
    "\n",
    "for i in range(len(dis_price)):\n",
    "    d_price.append(dis_price[i].text)\n",
    "    \n",
    "for i in range(len(per_dis)):\n",
    "    p_dis.append(per_dis[i].text)\n",
    "    \n",
    "for i in range(len(ratings)):\n",
    "    rat.append(ratings[i].text)\n",
    "    \n",
    "    "
   ]
  },
  {
   "cell_type": "code",
   "execution_count": 164,
   "id": "fb9bbd8c",
   "metadata": {},
   "outputs": [
    {
     "data": {
      "text/plain": [
       "['Amla',\n",
       " 'Chyawanprash - 2X Immunity',\n",
       " 'Organic Cow Ghee/Tuppa',\n",
       " 'Hajmola Anardana - Digestive Tablets',\n",
       " 'Hajmola Imli - Digestive Tablets',\n",
       " 'Badam Tail Almond Oil - For Strong & Healthy Hair, 100% Pure, Rich in Vitamin E',\n",
       " 'Sat Isabgol - Effective Relief From Constipation',\n",
       " 'Organic Gulkand - Rich In Calcium And Antioxidants',\n",
       " 'Chyawanprash - 2X Immunity, 1 Kg + Vedic Suraksha Green Tea, 25 Tea Bags',\n",
       " 'Pure Aloe Vera Hydrating Face Gel',\n",
       " 'Fresh Turmeric - Organically Grown',\n",
       " 'Chyawanprakash - Sugar Free',\n",
       " 'Pancharishta Ayurvedic Tonic - For Digestion, Acidity, Constipation & Gas Relief',\n",
       " 'Amla Ayurvedic Juice',\n",
       " 'Kerala Virgin Coconut Oil',\n",
       " 'Balm - Ayurvedic Solution For Quick Pain Relief, Headache, Sprain',\n",
       " 'Pudin Hara - Active',\n",
       " 'Hajmola Maha Candy - Aam+Imli',\n",
       " 'Isabgol - Double Action (Relief from Constipation)',\n",
       " 'Safi - Natural Blood Purifier',\n",
       " 'Karela Jamun Juice',\n",
       " 'Amla Juice',\n",
       " 'Aloe Vera and Amla Juice',\n",
       " 'Aloe Vera Juice',\n",
       " 'Organic Gulkand, 300 g + Chyawanprash - For Immunity & Daily Wellness, 500 g',\n",
       " 'Isabgol',\n",
       " 'Aloe Vera Juice',\n",
       " 'Hingoli - Gas Par Asar Zabardast',\n",
       " 'A2 Desi Ghee',\n",
       " 'Sudanta Gel Toothpaste - Non-Fluoride, 100% Vegetarian',\n",
       " 'Organic Psyllium Husk /Isabgol',\n",
       " 'Shilajit Gold - for Strength, Stamina & Power',\n",
       " 'Amla Juice',\n",
       " 'Honitus Ginger - Cough Drops',\n",
       " 'Moringa Powder',\n",
       " 'Ashwagandha Tablets']"
      ]
     },
     "execution_count": 164,
     "metadata": {},
     "output_type": "execute_result"
    }
   ],
   "source": [
    "names"
   ]
  },
  {
   "cell_type": "code",
   "execution_count": 165,
   "id": "7f111f15",
   "metadata": {},
   "outputs": [
    {
     "data": {
      "text/plain": [
       "['Standard Delivery: 14 Jun, 3:00PM - 7:30PM',\n",
       " 'Standard Delivery: Tomorrow 7:30AM-10:30AM',\n",
       " 'Standard Delivery: Tomorrow 7:30AM-10:30AM',\n",
       " 'Standard Delivery: 14 Jun, 3:00PM - 7:30PM',\n",
       " 'Standard Delivery: 14 Jun, 3:00PM - 7:30PM',\n",
       " 'Standard Delivery: 14 Jun, 3:00PM - 7:30PM',\n",
       " 'Standard Delivery: Tomorrow 7:30AM-10:30AM',\n",
       " 'Standard Delivery: 14 Jun, 3:00PM - 7:30PM',\n",
       " 'Standard Delivery: Tomorrow 7:30AM-10:30AM',\n",
       " 'Standard Delivery: Tomorrow 7:30AM-10:30AM',\n",
       " 'Standard Delivery: 14 Jun, 3:00PM - 7:30PM',\n",
       " 'Standard Delivery: Tomorrow 7:30AM-10:30AM',\n",
       " 'Standard Delivery: Tomorrow 7:30AM-10:30AM',\n",
       " 'Standard Delivery: Tomorrow 7:30AM-10:30AM',\n",
       " 'Standard Delivery: Tomorrow 7:30AM-10:30AM',\n",
       " 'Standard Delivery: Tomorrow 7:30AM-10:30AM',\n",
       " 'Standard Delivery: Tomorrow 7:30AM-10:30AM',\n",
       " 'Standard Delivery: Tomorrow 7:30AM-10:30AM',\n",
       " 'Standard Delivery: Tomorrow 7:30AM-10:30AM',\n",
       " 'Standard Delivery: Tomorrow 7:30AM-10:30AM',\n",
       " 'Standard Delivery: Tomorrow 7:30AM-10:30AM',\n",
       " 'Standard Delivery: Tomorrow 7:30AM-10:30AM',\n",
       " 'Standard Delivery: Tomorrow 7:30AM-10:30AM',\n",
       " 'Standard Delivery: Tomorrow 7:30AM-10:30AM',\n",
       " 'Standard Delivery: 14 Jun, 3:00PM - 7:30PM',\n",
       " 'Standard Delivery: Tomorrow 7:30AM-10:30AM',\n",
       " 'Standard Delivery: Tomorrow 7:30AM-10:30AM',\n",
       " 'Standard Delivery: Tomorrow 7:30AM-10:30AM',\n",
       " 'Standard Delivery: Tomorrow 7:30AM-10:30AM',\n",
       " 'Standard Delivery: Tomorrow 7:30AM-10:30AM',\n",
       " 'Standard Delivery: Tomorrow 7:30AM-10:30AM',\n",
       " 'Standard Delivery: Tomorrow 7:30AM-10:30AM',\n",
       " 'Standard Delivery: Tomorrow 7:30AM-10:30AM',\n",
       " 'Standard Delivery: Tomorrow 7:30AM-10:30AM',\n",
       " 'Standard Delivery: Tomorrow 7:30AM-10:30AM',\n",
       " 'Standard Delivery: Tomorrow 7:30AM-10:30AM']"
      ]
     },
     "execution_count": 165,
     "metadata": {},
     "output_type": "execute_result"
    }
   ],
   "source": [
    "deli"
   ]
  },
  {
   "cell_type": "code",
   "execution_count": 166,
   "id": "95884c05",
   "metadata": {},
   "outputs": [
    {
     "data": {
      "text/plain": [
       "['Rs 9.28',\n",
       " 'Rs 608.60',\n",
       " 'Rs 45',\n",
       " 'Rs 45',\n",
       " 'Rs 374',\n",
       " 'Rs 486.21',\n",
       " 'Rs 17.34',\n",
       " 'Rs 373',\n",
       " 'Rs 155.22',\n",
       " 'Rs 199.75',\n",
       " 'Rs 72.25',\n",
       " 'Rs 51',\n",
       " 'Rs 475',\n",
       " 'Rs 147.25',\n",
       " 'Rs 219.30',\n",
       " 'Rs 219.30',\n",
       " 'Rs 219.30',\n",
       " 'Rs 858',\n",
       " 'Rs 67.50',\n",
       " 'Rs 75',\n",
       " 'Rs 184',\n",
       " 'Rs 93',\n",
       " 'Rs 209.25',\n",
       " 'Rs 132']"
      ]
     },
     "execution_count": 166,
     "metadata": {},
     "output_type": "execute_result"
    }
   ],
   "source": [
    "price"
   ]
  },
  {
   "cell_type": "code",
   "execution_count": 167,
   "id": "fc38a7c0",
   "metadata": {},
   "outputs": [
    {
     "data": {
      "text/plain": [
       "['Rs 11.60',\n",
       " 'Rs 680',\n",
       " 'MRP: Rs 649',\n",
       " 'Rs 49',\n",
       " 'Rs 49',\n",
       " 'Rs 425',\n",
       " 'MRP: Rs 110',\n",
       " 'MRP: Rs 449',\n",
       " 'Rs 550',\n",
       " 'MRP: Rs 125',\n",
       " 'Rs 21.68',\n",
       " 'Rs 415',\n",
       " 'Rs 199',\n",
       " 'Rs 235',\n",
       " 'MRP: Rs 399',\n",
       " 'Rs 85',\n",
       " 'Rs 55',\n",
       " 'Rs 500',\n",
       " 'Rs 155',\n",
       " 'MRP: Rs 100',\n",
       " 'Rs 378',\n",
       " 'Rs 378',\n",
       " 'MRP: Rs 500',\n",
       " 'Rs 378',\n",
       " 'Rs 948',\n",
       " 'MRP: Rs 360',\n",
       " 'MRP: Rs 299',\n",
       " 'MRP: Rs 30',\n",
       " 'MRP: Rs 2998',\n",
       " 'Rs 75',\n",
       " 'Rs 119',\n",
       " 'Rs 230',\n",
       " 'MRP: Rs 299',\n",
       " 'Rs 100',\n",
       " 'Rs 225',\n",
       " 'Rs 150']"
      ]
     },
     "execution_count": 167,
     "metadata": {},
     "output_type": "execute_result"
    }
   ],
   "source": [
    "d_price"
   ]
  },
  {
   "cell_type": "code",
   "execution_count": 168,
   "id": "5dd83a26",
   "metadata": {},
   "outputs": [
    {
     "data": {
      "text/plain": [
       "['GET 20% OFF',\n",
       " 'GET 11% OFF',\n",
       " 'GET 8% OFF',\n",
       " 'GET 8% OFF',\n",
       " 'GET 12% OFF',\n",
       " 'GET 12% OFF',\n",
       " 'GET 20% OFF',\n",
       " 'GET 10% OFF',\n",
       " 'GET 22% OFF',\n",
       " 'GET 15% OFF',\n",
       " 'GET 15% OFF',\n",
       " 'GET 7% OFF',\n",
       " 'SAVE Rs 25',\n",
       " 'SAVE Rs 8',\n",
       " 'GET 42% OFF',\n",
       " 'GET 42% OFF',\n",
       " 'GET 42% OFF',\n",
       " 'SAVE Rs 90',\n",
       " 'GET 10% OFF',\n",
       " 'GET 37% OFF',\n",
       " 'GET 20% OFF',\n",
       " 'SAVE Rs 7',\n",
       " 'SAVE Rs 16',\n",
       " 'GET 12% OFF']"
      ]
     },
     "execution_count": 168,
     "metadata": {},
     "output_type": "execute_result"
    }
   ],
   "source": [
    "p_dis"
   ]
  },
  {
   "cell_type": "code",
   "execution_count": 169,
   "id": "a02997a8",
   "metadata": {},
   "outputs": [
    {
     "data": {
      "text/plain": [
       "['4.1',\n",
       " '4.4',\n",
       " '4.3',\n",
       " '4.2',\n",
       " '4.1',\n",
       " '4.1',\n",
       " '4.3',\n",
       " '4.4',\n",
       " '4.2',\n",
       " '4.5',\n",
       " '4.4',\n",
       " '4.2',\n",
       " '3.7',\n",
       " '5',\n",
       " '4',\n",
       " '4.4']"
      ]
     },
     "execution_count": 169,
     "metadata": {},
     "output_type": "execute_result"
    }
   ],
   "source": [
    "rat"
   ]
  },
  {
   "cell_type": "code",
   "execution_count": null,
   "id": "eb9f617f",
   "metadata": {},
   "outputs": [],
   "source": [
    "final"
   ]
  },
  {
   "cell_type": "code",
   "execution_count": 178,
   "id": "3e219a1e",
   "metadata": {},
   "outputs": [],
   "source": [
    "data = {\"Names_Of_Product\":names, \"Delivery_Till\":deli, \"Original_Price\":price, \"Discount_Price\":d_price, \"Discount_Percent\":p_dis, \"Ratings\":rat}"
   ]
  },
  {
   "cell_type": "code",
   "execution_count": 180,
   "id": "06ae7352",
   "metadata": {},
   "outputs": [],
   "source": [
    "final_sheet = zip(names, deli, price, d_price, p_dis, rat)"
   ]
  },
  {
   "cell_type": "code",
   "execution_count": 172,
   "id": "bb9fa864",
   "metadata": {
    "scrolled": true
   },
   "outputs": [
    {
     "data": {
      "text/html": [
       "<div>\n",
       "<style scoped>\n",
       "    .dataframe tbody tr th:only-of-type {\n",
       "        vertical-align: middle;\n",
       "    }\n",
       "\n",
       "    .dataframe tbody tr th {\n",
       "        vertical-align: top;\n",
       "    }\n",
       "\n",
       "    .dataframe thead th {\n",
       "        text-align: right;\n",
       "    }\n",
       "</style>\n",
       "<table border=\"1\" class=\"dataframe\">\n",
       "  <thead>\n",
       "    <tr style=\"text-align: right;\">\n",
       "      <th></th>\n",
       "    </tr>\n",
       "  </thead>\n",
       "  <tbody>\n",
       "  </tbody>\n",
       "</table>\n",
       "</div>"
      ],
      "text/plain": [
       "Empty DataFrame\n",
       "Columns: []\n",
       "Index: []"
      ]
     },
     "execution_count": 172,
     "metadata": {},
     "output_type": "execute_result"
    }
   ],
   "source": [
    "data = pd.DataFrame()\n",
    "df = pd.DataFrame({ key:pd.Series(value) for key, value in data.items()})\n",
    "df"
   ]
  },
  {
   "cell_type": "code",
   "execution_count": 181,
   "id": "4782cbf1",
   "metadata": {},
   "outputs": [],
   "source": [
    "wb = openpyxl.Workbook()\n",
    "sheet = wb.active\n",
    "for i in list(final_sheet):\n",
    "    sheet.append(i)\n",
    "    wb.save(\"Test_Data.csv\")"
   ]
  },
  {
   "cell_type": "code",
   "execution_count": null,
   "id": "fd8d3308",
   "metadata": {},
   "outputs": [],
   "source": []
  },
  {
   "cell_type": "code",
   "execution_count": null,
   "id": "befb70d4",
   "metadata": {},
   "outputs": [],
   "source": []
  },
  {
   "cell_type": "code",
   "execution_count": null,
   "id": "1860ee07",
   "metadata": {},
   "outputs": [],
   "source": []
  }
 ],
 "metadata": {
  "kernelspec": {
   "display_name": "Python 3 (ipykernel)",
   "language": "python",
   "name": "python3"
  },
  "language_info": {
   "codemirror_mode": {
    "name": "ipython",
    "version": 3
   },
   "file_extension": ".py",
   "mimetype": "text/x-python",
   "name": "python",
   "nbconvert_exporter": "python",
   "pygments_lexer": "ipython3",
   "version": "3.10.4"
  }
 },
 "nbformat": 4,
 "nbformat_minor": 5
}
