{
 "cells": [
  {
   "cell_type": "code",
   "execution_count": 84,
   "id": "24ab98dc",
   "metadata": {},
   "outputs": [],
   "source": [
    "driver  = webdriver.Chrome()\n",
    "driver.maximize_window()\n",
    "driver.get('https://www.naukri.com/data-scientist-jobs?k=data%20scientist')\n"
   ]
  },
  {
   "cell_type": "code",
   "execution_count": 88,
   "id": "d5b43068",
   "metadata": {},
   "outputs": [],
   "source": [
    "import pandas as pd"
   ]
  },
  {
   "cell_type": "code",
   "execution_count": 85,
   "id": "2267cead",
   "metadata": {},
   "outputs": [
    {
     "name": "stderr",
     "output_type": "stream",
     "text": [
      "C:\\Users\\Admin\\AppData\\Local\\Temp\\ipykernel_1428\\730785641.py:1: DeprecationWarning: find_elements_by_xpath is deprecated. Please use find_elements(by=By.XPATH, value=xpath) instead\n",
      "  jobs = driver.find_elements_by_xpath('//a[@class=\"title fw500 ellipsis\"]')\n",
      "C:\\Users\\Admin\\AppData\\Local\\Temp\\ipykernel_1428\\730785641.py:2: DeprecationWarning: find_elements_by_xpath is deprecated. Please use find_elements(by=By.XPATH, value=xpath) instead\n",
      "  company = driver.find_elements_by_xpath('//a[@class=\"subTitle ellipsis fleft\"]')\n"
     ]
    }
   ],
   "source": [
    "jobs = driver.find_elements_by_xpath('//a[@class=\"title fw500 ellipsis\"]')#elements for post name\n",
    "company = driver.find_elements_by_xpath('//a[@class=\"subTitle ellipsis fleft\"]')#elements for company name"
   ]
  },
  {
   "cell_type": "code",
   "execution_count": 86,
   "id": "19f5b764",
   "metadata": {},
   "outputs": [],
   "source": [
    "title = []\n",
    "for i in range(len(jobs)):\n",
    "    title.append(jobs[i].text)"
   ]
  },
  {
   "cell_type": "code",
   "execution_count": 89,
   "id": "31f0544b",
   "metadata": {},
   "outputs": [],
   "source": [
    "data = pd.DataFrame(title)"
   ]
  },
  {
   "cell_type": "code",
   "execution_count": 90,
   "id": "a329b850",
   "metadata": {},
   "outputs": [],
   "source": [
    "company_ = []\n",
    "for i in range(len(company)):\n",
    "    company_.append(company[i].text)"
   ]
  },
  {
   "cell_type": "code",
   "execution_count": 91,
   "id": "d5a991af",
   "metadata": {},
   "outputs": [],
   "source": [
    "data['company'] = company_"
   ]
  },
  {
   "cell_type": "code",
   "execution_count": 92,
   "id": "7685f45d",
   "metadata": {},
   "outputs": [],
   "source": [
    "data.to_csv('Job List.csv',index=False)\n",
    "data\n",
    "\n",
    "driver.close()"
   ]
  },
  {
   "cell_type": "code",
   "execution_count": null,
   "id": "6181562a",
   "metadata": {},
   "outputs": [],
   "source": []
  }
 ],
 "metadata": {
  "kernelspec": {
   "display_name": "Python 3 (ipykernel)",
   "language": "python",
   "name": "python3"
  },
  "language_info": {
   "codemirror_mode": {
    "name": "ipython",
    "version": 3
   },
   "file_extension": ".py",
   "mimetype": "text/x-python",
   "name": "python",
   "nbconvert_exporter": "python",
   "pygments_lexer": "ipython3",
   "version": "3.10.4"
  }
 },
 "nbformat": 4,
 "nbformat_minor": 5
}
